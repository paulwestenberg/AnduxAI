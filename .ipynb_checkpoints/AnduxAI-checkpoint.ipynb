{
 "cells": [
  {
   "cell_type": "code",
   "execution_count": 1,
   "id": "400667d4",
   "metadata": {},
   "outputs": [
    {
     "name": "stdout",
     "output_type": "stream",
     "text": [
      "hello world\n"
     ]
    }
   ],
   "source": [
    "print(\"hello world\")\n",
    "# put imports here\n",
    "from array import *\n",
    "import time\n",
    "import datetime\n",
    "import copy\n",
    "import os"
   ]
  },
  {
   "cell_type": "code",
   "execution_count": 11,
   "id": "5a7f23f2",
   "metadata": {},
   "outputs": [],
   "source": [
    "class Node:\n",
    "    # Set the variables\n",
    "    def __init__(self, board):\n",
    "        self.board = board\n",
    "    \n",
    "    # def setupInitialGame(array):\n",
    "    #     for x in range(9):\n",
    "    #         if x == 0 or x == 1 or x == 2 or x == 6 or x == 7 or x == 8 :\n",
    "    #             array[x] = [' ', ' ', ' ', '1', '1', '1', ' ', ' ', ' ']\n",
    "    #     array[4][4] = 0\n",
    "\n",
    "    # Function to get the current board position\n",
    "    def returnGame(self):\n",
    "        table = \"\"\n",
    "        counter = 0\n",
    "        for x in self.board:\n",
    "            table += str(counter) + \" \"\n",
    "            for y in x:\n",
    "                table += str(y) + \" \"\n",
    "            if counter<8:\n",
    "                table += \"\\n\"\n",
    "            counter=counter+1\n",
    "        print(table)\n",
    "        print(\"  0 1 2 3 4 5 6 7 8\")\n",
    "        \n",
    "    # Function to be able to make a move on the board\n",
    "    def makeMove(self, move):\n",
    "        #print(move[0])\n",
    "        \n",
    "        if move[0] == move[2]:\n",
    "            #means the move happens horizontally\n",
    "            self.board[int(move[0])][int(move[1])] = '0'\n",
    "            self.board[int(move[0])][int((int(move[1])+int(move[3]))/2)] = '0'\n",
    "            self.board[int(move[2])][int(move[3])] = '1'\n",
    "        elif move[1] == move[3]:\n",
    "            #means the move happens vertically\n",
    "            self.board[int(move[0])][int(move[1])] = '0'\n",
    "            self.board[int((int(move[0])+int(move[2]))/2)][int(move[1])] = '0'\n",
    "            self.board[int(move[2])][int(move[3])] = '1'\n",
    "            \n",
    "    def allPossibleMoves(self):\n",
    "        movesList = []\n",
    "        # Get all horizontal moves to the right:\n",
    "        for x in range(len(self.board)):\n",
    "            for y in range(len(self.board)-2):\n",
    "                if (self.board[x][y] == '1' and self.board[x][y+1] == '1' and self.board[x][y+2] == '0'):\n",
    "                    movesList.append(str(x)+str(y)+str(x)+str(y+2))\n",
    "                    \n",
    "        # Get all horizontal moves to the left:\n",
    "        for x in range(len(self.board)):\n",
    "            for y in range(len(self.board)-2):\n",
    "                if (self.board[x][y] == '0' and self.board[x][y+1] == '1' and self.board[x][y+2] == '1'):\n",
    "                    movesList.append(str(x)+str(y+2)+str(x)+str(y))\n",
    "                \n",
    "        # Get all vertical moves going downwards:\n",
    "        for x in range(len(self.board)-2):\n",
    "            for y in range(len(self.board)):\n",
    "                if (self.board[x][y] == '1' and self.board[x+1][y] == '1' and self.board[x+2][y] == '0'):\n",
    "                    movesList.append(str(x)+str(y)+str(x+2)+str(y))\n",
    "                    \n",
    "        # Get all vertical moves going upwards:\n",
    "        for x in range(len(self.board)-2):\n",
    "            for y in range(len(self.board)):\n",
    "                if (self.board[x][y] == '0' and self.board[x+1][y] == '1' and self.board[x+2][y] == '1'):\n",
    "                    movesList.append(str(x+2)+str(y)+str(x)+str(y))             \n",
    "        return(movesList)\n",
    "    \n",
    "    def returnMarbleCount(self):\n",
    "        count = 0\n",
    "        for x in self.board:\n",
    "            for y in x:\n",
    "                if y == '1':\n",
    "                    count+=1\n",
    "        return count\n",
    "        \n",
    "    \n",
    "    #run function\n",
    "    def run(self):\n",
    "        self.returnGame()\n",
    "        print(self.allPossibleMoves())\n",
    "        print(self.returnMarbleCount())\n",
    "        self.makeMove(\"4644\")\n",
    "        self.returnGame()\n",
    "        self.makeMove(\"3133\")\n",
    "        self.returnGame()\n",
    "        self.makeMove(\"6444\")\n",
    "        self.returnGame()\n",
    "        self.makeMove(\"5856\")\n",
    "        self.returnGame()\n",
    "        print(self.allPossibleMoves())\n",
    "        print(self.returnMarbleCount())\n",
    "        \n"
   ]
  },
  {
   "cell_type": "code",
   "execution_count": 12,
   "id": "ff272969",
   "metadata": {},
   "outputs": [
    {
     "name": "stdout",
     "output_type": "stream",
     "text": [
      "0       1 1 1       \n",
      "1       1 1 1       \n",
      "2       1 1 1       \n",
      "3 1 1 1 1 1 1 1 1 1 \n",
      "4 1 1 1 1 1 1 1 1 1 \n",
      "5 1 1 1 1 1 1 1 1 1 \n",
      "6       1 1 1       \n",
      "7       1 1 1       \n",
      "8       1 1 1       \n",
      "  0 1 2 3 4 5 6 7 8\n",
      "[]\n"
     ]
    }
   ],
   "source": [
    "# setting up the initial position\n",
    "size = 9\n",
    "array = [['1' for x in range(size)] for y in range(size)]\n",
    "for x in range(9):\n",
    "    if x == 0 or x == 1 or x == 2 or x == 6 or x == 7 or x == 8 :\n",
    "        array[x] = [' ', ' ', ' ', '1', '1', '1', ' ', ' ', ' ']\n",
    "array[4][4] = 1\n",
    "\n",
    "# creating the object of the \n",
    "FirstNode = Node(array)\n",
    "FirstNode.run()"
   ]
  },
  {
   "cell_type": "code",
   "execution_count": null,
   "id": "61b8b01f",
   "metadata": {},
   "outputs": [],
   "source": []
  }
 ],
 "metadata": {
  "kernelspec": {
   "display_name": "Python 3",
   "language": "python",
   "name": "python3"
  },
  "language_info": {
   "codemirror_mode": {
    "name": "ipython",
    "version": 3
   },
   "file_extension": ".py",
   "mimetype": "text/x-python",
   "name": "python",
   "nbconvert_exporter": "python",
   "pygments_lexer": "ipython3",
   "version": "3.6.6"
  }
 },
 "nbformat": 4,
 "nbformat_minor": 5
}
